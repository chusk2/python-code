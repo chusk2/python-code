{
 "metadata": {
  "language_info": {
   "codemirror_mode": {
    "name": "ipython",
    "version": 3
   },
   "file_extension": ".py",
   "mimetype": "text/x-python",
   "name": "python",
   "nbconvert_exporter": "python",
   "pygments_lexer": "ipython3",
   "version": "3.9.1-final"
  },
  "orig_nbformat": 2,
  "kernelspec": {
   "name": "python3",
   "display_name": "Python 3",
   "language": "python"
  }
 },
 "nbformat": 4,
 "nbformat_minor": 2,
 "cells": [
  {
   "source": [
    "## Classes and objects\n"
   ],
   "cell_type": "markdown",
   "metadata": {}
  },
  {
   "cell_type": "code",
   "execution_count": 2,
   "metadata": {},
   "outputs": [],
   "source": [
    "class myFirstClass() :\n",
    "\n",
    "    def method1(self) :\n",
    "        print('This is the 1st method of the myFirstClass class')\n",
    "    \n",
    "    def method2(self,name) :\n",
    "        print(f'Pleased to meet you, {name}')"
   ]
  },
  {
   "source": [
    "### Instanciating a class means creating an object of that class"
   ],
   "cell_type": "markdown",
   "metadata": {}
  },
  {
   "cell_type": "code",
   "execution_count": 6,
   "metadata": {},
   "outputs": [
    {
     "output_type": "stream",
     "name": "stdout",
     "text": [
      "This is the 1st method of the myFirstClass class\nPleased to meet you, Daniel\n"
     ]
    }
   ],
   "source": [
    "myFirstObject = myFirstClass()\n",
    "myFirstObject.method1()\n",
    "myFirstObject.method2('Daniel')"
   ]
  },
  {
   "source": [
    "### Inheritance: add the parent class inside the brackets when defining the new class"
   ],
   "cell_type": "markdown",
   "metadata": {}
  },
  {
   "cell_type": "code",
   "execution_count": 10,
   "metadata": {},
   "outputs": [
    {
     "output_type": "stream",
     "name": "stdout",
     "text": [
      "## This method1 is inherited from the myFirstClass parent class\nThis is the 1st method of the myFirstClass class\n\n## This method2 is also inherited from the myFirstClass parent class\nPleased to meet you, Perséfone\n\n## On the other hand, this method3 belong to the object itself\nThis method3 belongs to mySecondClass\n"
     ]
    }
   ],
   "source": [
    "class mySecondClass (myFirstClass) :\n",
    "    \n",
    "    def method3(self) :\n",
    "        print('This method3 belongs to mySecondClass')\n",
    "mySecondObject = mySecondClass()\n",
    "\n",
    "print('## This method1 is inherited from the myFirstClass parent class')\n",
    "mySecondObject.method1()\n",
    "print('\\n## This method2 is also inherited from the myFirstClass parent class')\n",
    "mySecondObject.method2('Perséfone')\n",
    "print('\\n## On the other hand, this method3 belong to the object itself')\n",
    "mySecondObject.method3()"
   ]
  },
  {
   "source": [
    "## Create a class and define its attributes"
   ],
   "cell_type": "markdown",
   "metadata": {}
  },
  {
   "cell_type": "code",
   "execution_count": null,
   "metadata": {},
   "outputs": [],
   "source": [
    "class Rectangle:\n",
    "   \n",
    "   ## this defines the initialization method of the object with its attributes\n",
    "   def __init__(self, length, widdth, unit_cost=0):\n",
    "       self.length = length\n",
    "       self.width = breadth\n",
    "       self.unit_cost = unit_cost\n",
    "   \n",
    "   def get_perimeter(self):\n",
    "       return 2 * (self.length + self.width)\n",
    "   \n",
    "   def get_area(self):\n",
    "       return self.length * self.width\n",
    "   \n",
    "   def calculate_cost(self):\n",
    "       area = self.get_area()\n",
    "       return area * self.unit_cost\n",
    "# width = 120 cm, length = 160 cm, 1 cm^2 = Rs 2000\n",
    "r = Rectangle(160, 120, 2000)\n",
    "print(\"Area of Rectangle: %s cm^2\" % (r.get_area()))\n",
    "print(\"Cost of rectangular field: Rs. %s \" %(r.calculate_cost()))"
   ]
  }
 ]
}