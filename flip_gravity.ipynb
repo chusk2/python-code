{
 "cells": [
  {
   "cell_type": "markdown",
   "metadata": {},
   "source": [
    "## Definiendo una lista de números"
   ]
  },
  {
   "cell_type": "markdown",
   "metadata": {},
   "source": [
    "#### Para definir una lista de elementos, se usa la siguiente nomenclatura: se encierra entre corchetes los elementos, que irán separados por comas."
   ]
  },
  {
   "cell_type": "code",
   "execution_count": 7,
   "metadata": {},
   "outputs": [
    {
     "name": "stdout",
     "output_type": "stream",
     "text": [
      "[5, 8, 3, -15, 2]\n",
      "\n",
      "\n",
      "['Gato', 'Perro', 'Tortuga', 'Pájaro', 'Pez']\n"
     ]
    }
   ],
   "source": [
    "mi_lista1 = [ 5 , 8 , 3 , -15 , 2 ]\n",
    "mi_lista2 =['Gato','Perro','Tortuga','Pájaro','Pez']\n",
    "\n",
    "print( mi_lista1 )\n",
    "print('\\n') # uso un break line\n",
    "print( mi_lista2 )"
   ]
  },
  {
   "cell_type": "markdown",
   "metadata": {},
   "source": [
    "### Una vez que sabemos cómo crear una lista, vamos a estudiar un método (función que puedo aplicar sobre un tipo de objeto) paraordenar los elementos de las listas: el método .sort()\n",
    "\n",
    "La forma de aplicarlo es la siguiente: lista.sort()"
   ]
  },
  {
   "cell_type": "code",
   "execution_count": 9,
   "metadata": {},
   "outputs": [
    {
     "name": "stdout",
     "output_type": "stream",
     "text": [
      "Lista desordenada:\n",
      "[5, 8, 3, -15, 2]\n",
      "Lista ORDENADA:\n",
      "[-15, 2, 3, 5, 8]\n"
     ]
    }
   ],
   "source": [
    "print('Lista desordenada:')\n",
    "print( mi_lista1)\n",
    "\n",
    "# ordeno la lista usando el método .sort()\n",
    "\n",
    "mi_lista1.sort()\n",
    "print('Lista ORDENADA:')\n",
    "print( mi_lista1)\n",
    "\n"
   ]
  },
  {
   "cell_type": "markdown",
   "metadata": {},
   "source": [
    "### Podemos ordenarla en orden inverso usando un argumento del método .sort() :\n",
    "## reverse = True"
   ]
  },
  {
   "cell_type": "code",
   "execution_count": 10,
   "metadata": {},
   "outputs": [
    {
     "name": "stdout",
     "output_type": "stream",
     "text": [
      "Lista ORDENADA en orden decreciente (inverso)\n",
      "[8, 5, 3, 2, -15]\n"
     ]
    }
   ],
   "source": [
    "# vamos a ordenar la lista al revés\n",
    "mi_lista1.sort(reverse = True)\n",
    "print('Lista ORDENADA en orden decreciente (inverso)')\n",
    "print(mi_lista1)"
   ]
  },
  {
   "cell_type": "markdown",
   "metadata": {},
   "source": [
    "## Condicionales:\n",
    "### Necesitamos ordenar de forma creciente ('L') o de forma decreciente ('R')\n",
    "Dependiendo del valor que nos indiquen, haremos una cosa u otra. Para ello usamos condicionales (if, elif, else)"
   ]
  },
  {
   "cell_type": "code",
   "execution_count": 12,
   "metadata": {},
   "outputs": [
    {
     "name": "stdout",
     "output_type": "stream",
     "text": [
      "None\n",
      "[8, 5, 3, 2, -15]\n"
     ]
    }
   ],
   "source": [
    "mi_lista1 = [ 5 , 8 , 3 , -15 , 2 ]\n",
    "\n",
    "def ordenar (lista, orden) :\n",
    "    # si quiero ordenarla de menor a mayor, orden = L\n",
    "    if orden == 'L' : \n",
    "        print(f'{lista.sort()}')\n",
    "    # si quiero ordenarla de mayor a menor, orden = R\n",
    "    elif orden == 'R' :\n",
    "        print(f'{lista.sort( reverse = True)}')\n",
    "    \n",
    "    return lista\n",
    "\n",
    "print ( ordenar(mi_lista1, orden = 'R' ) )\n"
   ]
  },
  {
   "cell_type": "markdown",
   "metadata": {},
   "source": [
    "### Veremos las funciones un poco más adelante. Por ahora, solo tienes que saber que usando \"def\", se crea una función. Luego \"llamo\" a la función y me devuelve su resultado."
   ]
  }
 ],
 "metadata": {
  "kernelspec": {
   "display_name": "Python 3",
   "language": "python",
   "name": "python3"
  },
  "language_info": {
   "codemirror_mode": {
    "name": "ipython",
    "version": 3
   },
   "file_extension": ".py",
   "mimetype": "text/x-python",
   "name": "python",
   "nbconvert_exporter": "python",
   "pygments_lexer": "ipython3",
   "version": "3.9.1"
  }
 },
 "nbformat": 4,
 "nbformat_minor": 2
}
