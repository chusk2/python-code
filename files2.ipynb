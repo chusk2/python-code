{
 "metadata": {
  "language_info": {
   "codemirror_mode": {
    "name": "ipython",
    "version": 3
   },
   "file_extension": ".py",
   "mimetype": "text/x-python",
   "name": "python",
   "nbconvert_exporter": "python",
   "pygments_lexer": "ipython3",
   "version": "3.9.1-final"
  },
  "orig_nbformat": 2,
  "kernelspec": {
   "name": "python3",
   "display_name": "Python 3",
   "language": "python"
  }
 },
 "nbformat": 4,
 "nbformat_minor": 2,
 "cells": [
  {
   "source": [
    "## Opening a file"
   ],
   "cell_type": "markdown",
   "metadata": {}
  },
  {
   "cell_type": "code",
   "execution_count": 7,
   "metadata": {},
   "outputs": [
    {
     "output_type": "stream",
     "name": "stdout",
     "text": [
      "This is the line number: 1\n\nThis is the line number: 2\n\nThis is the line number: 3\n\nThis is the line number: 4\n\nThis is the line number: 5\n\nThis is the line number: 6\n\nThis is the line number: 7\n\nThis is the line number: 8\n\nThis is the line number: 9\n\nThis is the line number: 10\n\n"
     ]
    }
   ],
   "source": [
    "with open('file' , 'w+' , encoding='utf-8') as f :\n",
    "    for i in range(1,11) :\n",
    "        f.write('This is the line number: ' + str(i) + '\\n' )\n",
    "        # important to add \\n break line because otherwise, it will write one letter after another.\n",
    "\n",
    "with open('file' , 'r') as f :\n",
    "    content = f.readlines()\n",
    "    for line in content :\n",
    "        print(line)"
   ]
  },
  {
   "cell_type": "code",
   "execution_count": null,
   "metadata": {},
   "outputs": [],
   "source": []
  }
 ]
}