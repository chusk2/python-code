{
 "metadata": {
  "language_info": {
   "codemirror_mode": {
    "name": "ipython",
    "version": 3
   },
   "file_extension": ".py",
   "mimetype": "text/x-python",
   "name": "python",
   "nbconvert_exporter": "python",
   "pygments_lexer": "ipython3",
   "version": "3.8.6-final"
  },
  "orig_nbformat": 2,
  "kernelspec": {
   "name": "python3",
   "display_name": "Python 3.8.6 64-bit",
   "metadata": {
    "interpreter": {
     "hash": "767d51c1340bd893661ea55ea3124f6de3c7a262a8b4abca0554b478b1e2ff90"
    }
   }
  }
 },
 "nbformat": 4,
 "nbformat_minor": 2,
 "cells": [
  {
   "source": [
    "Create dictionary from list of tuples"
   ],
   "cell_type": "markdown",
   "metadata": {}
  },
  {
   "cell_type": "code",
   "execution_count": 8,
   "metadata": {},
   "outputs": [
    {
     "output_type": "execute_result",
     "data": {
      "text/plain": [
       "{'uno': 1, 'dos': 2, 'tres': 3, 'cuatro': 4, 'cinco': 5}"
      ]
     },
     "metadata": {},
     "execution_count": 8
    }
   ],
   "source": [
    "lista=[('uno',1),('dos',2),('tres',3),('cuatro',4),('cinco',5)]\n",
    "numeros=dict(lista)\n",
    "numeros"
   ]
  },
  {
   "cell_type": "code",
   "execution_count": 10,
   "metadata": {},
   "outputs": [
    {
     "output_type": "execute_result",
     "data": {
      "text/plain": [
       "{'uno': 1, 'dos': 2, 'tres': 3, 'cuatro': 4, 'cinco': 5}"
      ]
     },
     "metadata": {},
     "execution_count": 10
    }
   ],
   "source": [
    "numeros2 = {\n",
    "'uno':1,\n",
    "'dos':2,\n",
    "'tres':3,\n",
    "'cuatro':4,\n",
    "'cinco':5\n",
    "}\n",
    "numeros2"
   ]
  },
  {
   "source": [
    "Create a dictionary using comprehension"
   ],
   "cell_type": "markdown",
   "metadata": {}
  },
  {
   "cell_type": "code",
   "execution_count": 12,
   "metadata": {},
   "outputs": [
    {
     "output_type": "stream",
     "name": "stdout",
     "text": [
      "{1: 1, 2: 4, 3: 9, 4: 16, 5: 25, 6: 36, 7: 49, 8: 64, 9: 81, 10: 100}\n"
     ]
    }
   ],
   "source": [
    "print({i:i**2 for i in range(1,11) })"
   ]
  },
  {
   "source": [
    "function zip: joins two iterables in a set of tuples"
   ],
   "cell_type": "markdown",
   "metadata": {}
  },
  {
   "cell_type": "code",
   "execution_count": 28,
   "metadata": {},
   "outputs": [
    {
     "output_type": "stream",
     "name": "stdout",
     "text": [
      "[(1, 20), (2, 21), (3, 22), (4, 23), (5, 24), (6, 25), (7, 26), (8, 27), (9, 28), (10, 29)] \n\n{1: 20, 2: 21, 3: 22, 4: 23, 5: 24, 6: 25, 7: 26, 8: 27, 9: 28, 10: 29}\n"
     ]
    }
   ],
   "source": [
    "# create a zip object which stores tuples created from the two iterators given by range functions\n",
    "tuples_kv =list ( zip( range(1,11) , range(20,30) ) )\n",
    "print(tuples_kv,'\\n')\n",
    "# create the dictionary using comprehension giving it tuples in the form (key,value)\n",
    "numbers3 = {k:v for (k,v) in tuples_kv}\n",
    "print(numbers3)\n",
    "\n"
   ]
  },
  {
   "source": [
    "Create an empty dictionary with keys, using .fromkeys()"
   ],
   "cell_type": "markdown",
   "metadata": {}
  },
  {
   "cell_type": "code",
   "execution_count": 30,
   "metadata": {},
   "outputs": [
    {
     "output_type": "execute_result",
     "data": {
      "text/plain": [
       "{'a': None,\n",
       " 'b': None,\n",
       " 'c': None,\n",
       " 'd': None,\n",
       " 'e': None,\n",
       " 'f': None,\n",
       " 'g': None,\n",
       " 'h': None}"
      ]
     },
     "metadata": {},
     "execution_count": 30
    }
   ],
   "source": [
    "letras = ['a','b','c','d','e','f','g','h']\n",
    "letters = dict.fromkeys(letras)\n",
    "letters"
   ]
  }
 ]
}