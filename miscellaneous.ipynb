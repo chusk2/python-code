{
 "metadata": {
  "language_info": {
   "codemirror_mode": {
    "name": "ipython",
    "version": 3
   },
   "file_extension": ".py",
   "mimetype": "text/x-python",
   "name": "python",
   "nbconvert_exporter": "python",
   "pygments_lexer": "ipython3",
   "version": "3.9.1-final"
  },
  "orig_nbformat": 2,
  "kernelspec": {
   "name": "python3",
   "display_name": "Python 3",
   "language": "python"
  }
 },
 "nbformat": 4,
 "nbformat_minor": 2,
 "cells": [
  {
   "source": [
    "## enumerate() function\n",
    "enumerate() returns a tuple with the index and the value of the elements of an iterable  NO MORE # for i in range( len(iterable) ) :"
   ],
   "cell_type": "markdown",
   "metadata": {}
  },
  {
   "cell_type": "code",
   "execution_count": 9,
   "metadata": {},
   "outputs": [
    {
     "output_type": "stream",
     "name": "stdout",
     "text": [
      "Name: Elena               0\nName: Pedro               1\nName: José Carlos               2\nName: Gustavo               3\n"
     ]
    }
   ],
   "source": [
    "names = ['Elena','Pedro','José Carlos','Gustavo']\n",
    "\n",
    "for index, value in enumerate(names) :\n",
    "    print(f'Name: {value} {index:>15}')"
   ]
  },
  {
   "cell_type": "code",
   "execution_count": null,
   "metadata": {},
   "outputs": [],
   "source": []
  }
 ]
}