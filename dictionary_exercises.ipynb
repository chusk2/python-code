{
 "cells": [
  {
   "cell_type": "markdown",
   "metadata": {},
   "source": [
    "## Create a dictionary from two lists: keys and values"
   ]
  },
  {
   "cell_type": "code",
   "execution_count": 1,
   "metadata": {},
   "outputs": [
    {
     "data": {
      "text/plain": [
       "{'Ten': 10, 'Twenty': 20, 'Thirty': 30}"
      ]
     },
     "execution_count": 1,
     "metadata": {},
     "output_type": "execute_result"
    }
   ],
   "source": [
    "keys = ['Ten', 'Twenty', 'Thirty']\n",
    "values = [10, 20, 30]\n",
    "dictio = dict( zip(keys, values) )\n",
    "dictio"
   ]
  },
  {
   "cell_type": "markdown",
   "metadata": {},
   "source": [
    "### Alternative method using dictionary comprehension\n",
    "k,v must be supplied in the tuple form. I use zip to pack two lists into two-dimensional tuples"
   ]
  },
  {
   "cell_type": "code",
   "execution_count": 2,
   "metadata": {},
   "outputs": [
    {
     "data": {
      "text/plain": [
       "{'Ten': 10, 'Twenty': 20, 'Thirty': 30}"
      ]
     },
     "execution_count": 2,
     "metadata": {},
     "output_type": "execute_result"
    }
   ],
   "source": [
    "dictio = {k:v for k,v in zip(keys,values) }\n",
    "dictio"
   ]
  },
  {
   "cell_type": "markdown",
   "metadata": {},
   "source": [
    "## Merge two dictionaries"
   ]
  },
  {
   "cell_type": "code",
   "execution_count": 3,
   "metadata": {},
   "outputs": [
    {
     "data": {
      "text/plain": [
       "{'Ten': 10, 'Twenty': 20, 'Thirty': 30, 'Fourty': 40, 'Fifty': 50}"
      ]
     },
     "execution_count": 3,
     "metadata": {},
     "output_type": "execute_result"
    }
   ],
   "source": [
    "dict1 = {'Ten': 10, 'Twenty': 20, 'Thirty': 30}\n",
    "dict2 = {'Thirty': 30, 'Fourty': 40, 'Fifty': 50}\n",
    "dict1.update(dict2)\n",
    "dict1"
   ]
  },
  {
   "cell_type": "markdown",
   "metadata": {},
   "source": [
    "### Alternative form of merging the dictionaries"
   ]
  },
  {
   "cell_type": "code",
   "execution_count": 4,
   "metadata": {},
   "outputs": [
    {
     "data": {
      "text/plain": [
       "{'Ten': 10, 'Twenty': 20, 'Thirty': 30, 'Fourty': 40, 'Fifty': 50}"
      ]
     },
     "execution_count": 4,
     "metadata": {},
     "output_type": "execute_result"
    }
   ],
   "source": [
    "# ** expands the elements of the object\n",
    "dict3 = {**dict1,**dict2}\n",
    "dict3"
   ]
  },
  {
   "cell_type": "markdown",
   "metadata": {},
   "source": [
    "## Accesing an element within a dictionary"
   ]
  },
  {
   "cell_type": "code",
   "execution_count": 5,
   "metadata": {},
   "outputs": [
    {
     "data": {
      "text/plain": [
       "80"
      ]
     },
     "execution_count": 5,
     "metadata": {},
     "output_type": "execute_result"
    }
   ],
   "source": [
    "sampleDict = { \n",
    "   \"class\":\n",
    "        {\"student\":\n",
    "            {\"name\":\"Mike\",\n",
    "             \"marks\":\n",
    "                {\"physics\":70, \"history\":80}\n",
    "            }\n",
    "        }\n",
    "    }\n",
    "\n",
    "sampleDict [\"class\"][ \"student\"][ \"marks\"][ \"history\" ]"
   ]
  },
  {
   "cell_type": "markdown",
   "metadata": {},
   "source": [
    "## Create a dictionary using methods .fromkeys() and .setdefault()"
   ]
  },
  {
   "cell_type": "code",
   "execution_count": 6,
   "metadata": {},
   "outputs": [
    {
     "name": "stdout",
     "output_type": "stream",
     "text": [
      "Kelly : {'designation': 'Application Developer', 'salary': 8000}\n",
      "Emma : {'designation': 'Application Developer', 'salary': 8000}\n",
      "John : {'designation': 'Application Developer', 'salary': 8000}\n"
     ]
    }
   ],
   "source": [
    "defaults = {\"designation\": 'Application Developer', \"salary\": 8000}\n",
    "employees = ['Kelly', 'Emma', 'John']\n",
    "\n",
    "# fromkeys() method must be applied to a preexisting dictionary\n",
    "employees = {}.fromkeys(employees)\n",
    "\n",
    "# let's fill up each employee with a dictionary that will contain their attributes\n",
    "for key in employees.keys() :\n",
    "    employees[key] = {}\n",
    "    \n",
    "    # fill up EACH employee with default values for their attributes\n",
    "    for k,v in defaults.items():\n",
    "        # .setdefault() needs a couple of arguments: key and value\n",
    "        employees[key].setdefault(k,v)\n",
    "\n",
    "# print each employee with their attributes\n",
    "for key,value in employees.items() :\n",
    "    print(f'{key} : {value}')"
   ]
  },
  {
   "cell_type": "markdown",
   "metadata": {},
   "source": [
    "## Remove items from a dictionary"
   ]
  },
  {
   "cell_type": "code",
   "execution_count": 7,
   "metadata": {},
   "outputs": [
    {
     "data": {
      "text/plain": [
       "{'age': 25, 'city': 'New york'}"
      ]
     },
     "execution_count": 7,
     "metadata": {},
     "output_type": "execute_result"
    }
   ],
   "source": [
    "sampleDict = {\n",
    "  \"name\": \"Kelly\",\n",
    "  \"age\":25,\n",
    "  \"salary\": 8000,\n",
    "  \"city\": \"New york\" \n",
    "}\n",
    "keysToRemove = [\"name\", \"salary\"]\n",
    "\n",
    "for key in keysToRemove :\n",
    "    sampleDict.pop(key)\n",
    "\n",
    "sampleDict"
   ]
  },
  {
   "cell_type": "markdown",
   "metadata": {},
   "source": [
    "## Check if an element is in a dictionary"
   ]
  },
  {
   "cell_type": "code",
   "execution_count": 8,
   "metadata": {},
   "outputs": [
    {
     "name": "stdout",
     "output_type": "stream",
     "text": [
      "Is key 'b' in dictionary? True\n",
      "\n",
      "Is value 200 in dictionary? True\n"
     ]
    }
   ],
   "source": [
    "sampleDict = {'a': 100, 'b': 200, 'c': 300}\n",
    "# key in dictionary\n",
    "print(f\"Is key 'b' in dictionary? {'b' in sampleDict}\")\n",
    "# value in dictionary\n",
    "print(f\"\\nIs value 200 in dictionary? {200 in sampleDict.values()}\")\n"
   ]
  },
  {
   "cell_type": "markdown",
   "metadata": {},
   "source": [
    "## \"Change\" a key inside a dictionary  \n",
    "## (keys are unmutable once they are created)"
   ]
  },
  {
   "cell_type": "code",
   "execution_count": 9,
   "metadata": {},
   "outputs": [
    {
     "name": "stdout",
     "output_type": "stream",
     "text": [
      "Old dictionary:\n",
      "\n",
      "{'name': 'Kelly', 'age': 25, 'salary': 8000, 'city': 'New york'}\n",
      "\n"
     ]
    }
   ],
   "source": [
    "sampleDict = {\n",
    "  \"name\": \"Kelly\",\n",
    "  \"age\":25,\n",
    "  \"salary\": 8000,\n",
    "  \"city\": \"New york\"\n",
    "}\n",
    "print('Old dictionary:')\n",
    "print(f'\\n{sampleDict}\\n')"
   ]
  },
  {
   "cell_type": "markdown",
   "metadata": {},
   "source": [
    "### rename \"city\" to \"location\"\n",
    "\n",
    "#### keys inside a dictionary cannot be changed. To \"change\" a key, you must proceed as following:\n",
    "\n",
    "#### (1) created a new key and fill it up with the desired value  \n",
    "#### (2) remove the old key"
   ]
  },
  {
   "cell_type": "code",
   "execution_count": 10,
   "metadata": {},
   "outputs": [
    {
     "name": "stdout",
     "output_type": "stream",
     "text": [
      "New dictionary:\n",
      "\n",
      "{'name': 'Kelly', 'age': 25, 'salary': 8000, 'location': 'New York'}\n"
     ]
    }
   ],
   "source": [
    "sampleDict.update({'location':\"New York\"}) # new key is created\n",
    "sampleDict.pop('city') # old key is removed\n",
    "print('New dictionary:')\n",
    "print(f'\\n{sampleDict}')"
   ]
  },
  {
   "cell_type": "markdown",
   "metadata": {},
   "source": [
    "## Get the key corresponding to the minimum value from the following dictionary"
   ]
  },
  {
   "cell_type": "code",
   "execution_count": 11,
   "metadata": {},
   "outputs": [
    {
     "name": "stdout",
     "output_type": "stream",
     "text": [
      "The minimum value corresponds to the key --> Math : 65\n"
     ]
    }
   ],
   "source": [
    "sampleDict = {\n",
    "  'Physics': 82,\n",
    "  'Math': 65,\n",
    "  'history': 75\n",
    "}\n",
    "# get a list with the values of the dictionary and find the minimun value\n",
    "values = sampleDict.values()\n",
    "min_value = min(values)\n",
    "\n",
    "for k,v in sampleDict.items() :\n",
    "    if v == min_value :\n",
    "        print(f'The minimum value corresponds to the key --> {k} : {v}')\n"
   ]
  },
  {
   "cell_type": "markdown",
   "metadata": {},
   "source": [
    "## Given a Python dictionary, Change Brad’s salary to 8500"
   ]
  },
  {
   "cell_type": "code",
   "execution_count": 12,
   "metadata": {},
   "outputs": [
    {
     "name": "stdout",
     "output_type": "stream",
     "text": [
      "emp1 : {'name': 'Jhon', 'salary': 7500}\n",
      "emp2 : {'name': 'Emma', 'salary': 8000}\n",
      "emp3 : {'name': 'Brad', 'salary': 8500}\n"
     ]
    }
   ],
   "source": [
    "sampleDict = {\n",
    "     'emp1': {'name': 'Jhon', 'salary': 7500},\n",
    "     'emp2': {'name': 'Emma', 'salary': 8000},\n",
    "     'emp3': {'name': 'Brad', 'salary': 6500}\n",
    "}\n",
    "sampleDict['emp3']['salary'] = 8500\n",
    "# show results\n",
    "for k,v in sampleDict.items() :\n",
    "    print(f'{k} : {v}')"
   ]
  }
 ],
 "metadata": {
  "kernelspec": {
   "display_name": "Python 3",
   "language": "python",
   "name": "python3"
  },
  "language_info": {
   "codemirror_mode": {
    "name": "ipython",
    "version": 3
   },
   "file_extension": ".py",
   "mimetype": "text/x-python",
   "name": "python",
   "nbconvert_exporter": "python",
   "pygments_lexer": "ipython3",
   "version": "3.9.1"
  }
 },
 "nbformat": 4,
 "nbformat_minor": 2
}
