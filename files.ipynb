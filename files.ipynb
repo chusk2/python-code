{
 "metadata": {
  "language_info": {
   "codemirror_mode": {
    "name": "ipython",
    "version": 3
   },
   "file_extension": ".py",
   "mimetype": "text/x-python",
   "name": "python",
   "nbconvert_exporter": "python",
   "pygments_lexer": "ipython3",
   "version": "3.9.1-final"
  },
  "orig_nbformat": 2,
  "kernelspec": {
   "name": "python3",
   "display_name": "Python 3",
   "language": "python"
  }
 },
 "nbformat": 4,
 "nbformat_minor": 2,
 "cells": [
  {
   "source": [
    "## Opening a file"
   ],
   "cell_type": "markdown",
   "metadata": {}
  },
  {
   "cell_type": "code",
   "execution_count": 8,
   "metadata": {},
   "outputs": [
    {
     "output_type": "stream",
     "name": "stdout",
     "text": [
      "This is the line number: 1\n\nThis is the line number: 2\n\nThis is the line number: 3\n\nThis is the line number: 4\n\n"
     ]
    }
   ],
   "source": [
    "with open('file' , 'w+' , encoding='utf-8') as f :\n",
    "    for i in range(1,5) :\n",
    "        f.write('This is the line number: ' + str(i) + '\\n' )\n",
    "        # important to add \\n break line because otherwise, it will write one letter after another.\n",
    "\n",
    "with open('file' , 'r') as f :\n",
    "    content = f.readlines()\n",
    "    for line in content :\n",
    "        print(line)"
   ]
  },
  {
   "source": [
    "## Check the existence of a file in an expecific path"
   ],
   "cell_type": "markdown",
   "metadata": {}
  },
  {
   "cell_type": "code",
   "execution_count": 12,
   "metadata": {},
   "outputs": [
    {
     "output_type": "error",
     "ename": "SyntaxError",
     "evalue": "f-string: unmatched '(' (<ipython-input-12-992d1d2c10e7>, line 3)",
     "traceback": [
      "\u001b[0;36m  File \u001b[0;32m\"<ipython-input-12-992d1d2c10e7>\"\u001b[0;36m, line \u001b[0;32m3\u001b[0m\n\u001b[0;31m    print(f'Does this file exist? {path.exists('file')}')\u001b[0m\n\u001b[0m                                                ^\u001b[0m\n\u001b[0;31mSyntaxError\u001b[0m\u001b[0;31m:\u001b[0m f-string: unmatched '('\n"
     ]
    }
   ],
   "source": [
    "import os\n",
    "from os import path\n",
    "print(f'Does this file exist? {path.exists('file')}')\n",
    "print(f'Is it a file? {path.isfile('file')}')\n",
    "print(f'Is it a directory? {path.isidr('file')}')"
   ]
  },
  {
   "cell_type": "code",
   "execution_count": null,
   "metadata": {},
   "outputs": [],
   "source": []
  }
 ]
}