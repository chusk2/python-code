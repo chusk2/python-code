{
 "metadata": {
  "language_info": {
   "codemirror_mode": {
    "name": "ipython",
    "version": 3
   },
   "file_extension": ".py",
   "mimetype": "text/x-python",
   "name": "python",
   "nbconvert_exporter": "python",
   "pygments_lexer": "ipython3",
   "version": "3.8.6-final"
  },
  "orig_nbformat": 2,
  "kernelspec": {
   "name": "python3",
   "display_name": "Python 3",
   "language": "python"
  }
 },
 "nbformat": 4,
 "nbformat_minor": 2,
 "cells": [
  {
   "cell_type": "code",
   "execution_count": 4,
   "metadata": {},
   "outputs": [
    {
     "output_type": "stream",
     "name": "stdout",
     "text": [
      "{'a': 4, 'e': 3, 'i': 1, 'o': 4}\n"
     ]
    }
   ],
   "source": [
    "vowels =['a','e','i','o','u']\n",
    "vowels_count ={}\n",
    "string = \"me llamo daniel y estoy programando\"\n",
    "for vowel in vowels :\n",
    "    if vowel in  string :\n",
    "        vowels_count[vowel] = string.count(vowel)\n",
    "print(vowels_count)"
   ]
  }
 ]
}